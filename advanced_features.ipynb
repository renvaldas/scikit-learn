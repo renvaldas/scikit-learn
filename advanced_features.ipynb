{
 "cells": [
  {
   "cell_type": "code",
   "execution_count": 1,
   "metadata": {
    "collapsed": false
   },
   "outputs": [
    {
     "name": "stdout",
     "output_type": "stream",
     "text": [
      "Populating the interactive namespace from numpy and matplotlib\n",
      "Python version: 3.5.2\n",
      "IPython version: 4.0.1\n",
      "numpy version: 1.13.1\n",
      "scikit-learn version: 0.18.2\n",
      "matplotlib version: 1.5.0\n"
     ]
    }
   ],
   "source": [
    "%pylab inline\n",
    "import platform\n",
    "import IPython\n",
    "import sklearn as sk\n",
    "import numpy as np\n",
    "import matplotlib\n",
    "import matplotlib.pyplot as plt\n",
    "\n",
    "print ('Python version:', platform.python_version())\n",
    "print ('IPython version:', IPython.__version__)\n",
    "print ('numpy version:', np.__version__)\n",
    "print ('scikit-learn version:', sk.__version__)\n",
    "print ('matplotlib version:', matplotlib.__version__)"
   ]
  },
  {
   "cell_type": "markdown",
   "metadata": {},
   "source": [
    "In the previous chapters we have studied several algorithms for very different tasks,\n",
    "from classification and regression to clustering and dimensionality reduction. We\n",
    "showed how we can apply these algorithms to predict results when faced with new\n",
    "data. That is what machine learning is all about. In this last chapter, we want to show\n",
    "some important concepts and methods you should take into account if you want to\n",
    "do real-world machine learning.\n",
    "- In real-world problems, usually data is not already expressed by attribute/\n",
    "float value pairs, but through more complex structures or is not structured at\n",
    "all. We will learn __feature extraction__ techniques that will allow us to extract\n",
    "scikit-learn features from data.\n",
    "- From the initial set of available features, not all of them will be useful\n",
    "for our algorithms to learn from; in fact, some of them may degrade our\n",
    "performance. We will address the problem of selecting the most adequate\n",
    "feature set, a process known as __feature selection__.\n",
    "- Finally, as we have seen in the examples in this book, many of the machine\n",
    "learning algorithms have parameters that must be set in order to use them.\n",
    "To do that, we will review __model selection__ techniques; that is, methods to\n",
    "select the most promising hyperparameters to our algorithms. "
   ]
  },
  {
   "cell_type": "markdown",
   "metadata": {},
   "source": [
    "# Feature extraction"
   ]
  },
  {
   "cell_type": "markdown",
   "metadata": {
    "collapsed": true
   },
   "source": [
    "...the source data does not usually come in this format. We have to\n",
    "extract what we think are potentially useful features and convert them to our learning\n",
    "format. This process is called feature extraction or feature engineering, and it is an\n",
    "often underestimated but very important and time-consuming phase in most realworld\n",
    "machine learning tasks. We can identify two different steps in this task:\n",
    " - __Obtain features__: This step involves processing the source data and extracting\n",
    "the learning instances, usually in the form of feature/value pairs where\n",
    "the value can be an integer or float value, a string, a categorical value, and\n",
    "so on. The method used for extraction depends heavily on how the data\n",
    "is presented. For example, we can have a set of pictures and generate an\n",
    "integer-valued feature for each pixel, indicating its color level, as we did\n",
    "in the face recognition example in Chapter 2, Supervised Learning. Since this\n",
    "is a very task-dependent job, we will not delve into details and assume we\n",
    "already have this setting for our examples.\n",
    " - __Convert features__: Most scikit-learn algorithms assume as an input a set of\n",
    "instances represented as a list of float-valued features. How to get these\n",
    "features will be the main subject of this section."
   ]
  },
  {
   "cell_type": "code",
   "execution_count": null,
   "metadata": {
    "collapsed": true
   },
   "outputs": [],
   "source": []
  }
 ],
 "metadata": {
  "kernelspec": {
   "display_name": "Python 3",
   "language": "python",
   "name": "python3"
  },
  "language_info": {
   "codemirror_mode": {
    "name": "ipython",
    "version": 3
   },
   "file_extension": ".py",
   "mimetype": "text/x-python",
   "name": "python",
   "nbconvert_exporter": "python",
   "pygments_lexer": "ipython3",
   "version": "3.5.2"
  }
 },
 "nbformat": 4,
 "nbformat_minor": 0
}
