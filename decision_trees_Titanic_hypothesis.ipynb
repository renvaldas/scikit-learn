{
 "cells": [
  {
   "cell_type": "markdown",
   "metadata": {},
   "source": [
    "A common argument against linear classifiers and against statistical learning\n",
    "methods is that it is difficult to explain how the built model decides its predictions\n",
    "for the target classes. If you have a highly dimensional SVM, it is impossible for a\n",
    "human being to even imagine how the hyperplane built looks like. A Naïve Bayes\n",
    "classifier will tell you something like: \"this class is the most probable, assuming\n",
    "it comes from a similar distribution as the training data, and making a few more\n",
    "assumptions\" something not very useful, for example, we want to know why this or\n",
    "that mail should be considered as spam."
   ]
  },
  {
   "cell_type": "code",
   "execution_count": null,
   "metadata": {
    "collapsed": true
   },
   "outputs": [],
   "source": []
  }
 ],
 "metadata": {
  "kernelspec": {
   "display_name": "Python 3",
   "language": "python",
   "name": "python3"
  },
  "language_info": {
   "codemirror_mode": {
    "name": "ipython",
    "version": 3
   },
   "file_extension": ".py",
   "mimetype": "text/x-python",
   "name": "python",
   "nbconvert_exporter": "python",
   "pygments_lexer": "ipython3",
   "version": "3.5.2"
  }
 },
 "nbformat": 4,
 "nbformat_minor": 0
}
