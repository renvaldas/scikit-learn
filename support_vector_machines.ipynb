{
 "cells": [
  {
   "cell_type": "markdown",
   "metadata": {},
   "source": [
    "SVM has become one of the state-of-the-art machine learning models for many tasks\n",
    "with excellent results in many practical applications. One of the greatest advantages\n",
    "of SVM is that they are very effective when working on high-dimensional spaces,\n",
    "that is, on problems which have a lot of features to learn from. They are also very\n",
    "effective when the data is sparse (think about a high-dimensional space with very\n",
    "few instances). Besides, they are very efficient in terms of memory storage, since only\n",
    "a subset of the points in the learning space is used to represent the decision surfaces."
   ]
  },
  {
   "cell_type": "markdown",
   "metadata": {},
   "source": [
    "To mention some disadvantages, SVM models could be very calculation intensive\n",
    "while training the model and they do not return a numerical indicator of how\n",
    "confident they are about a prediction. However, we can use some techniques such as\n",
    "K-fold cross-validation to avoid this, at the cost of increasing the computational cost."
   ]
  },
  {
   "cell_type": "code",
   "execution_count": null,
   "metadata": {
    "collapsed": true
   },
   "outputs": [],
   "source": []
  }
 ],
 "metadata": {
  "kernelspec": {
   "display_name": "Python 3",
   "language": "python",
   "name": "python3"
  },
  "language_info": {
   "codemirror_mode": {
    "name": "ipython",
    "version": 3
   },
   "file_extension": ".py",
   "mimetype": "text/x-python",
   "name": "python",
   "nbconvert_exporter": "python",
   "pygments_lexer": "ipython3",
   "version": "3.5.2"
  }
 },
 "nbformat": 4,
 "nbformat_minor": 0
}
